{
  "nbformat": 4,
  "nbformat_minor": 0,
  "metadata": {
    "colab": {
      "provenance": [],
      "authorship_tag": "ABX9TyNFMK0xjXzertomq8w6+t8h",
      "include_colab_link": true
    },
    "kernelspec": {
      "name": "python3",
      "display_name": "Python 3"
    },
    "language_info": {
      "name": "python"
    }
  },
  "cells": [
    {
      "cell_type": "markdown",
      "metadata": {
        "id": "view-in-github",
        "colab_type": "text"
      },
      "source": [
        "<a href=\"https://colab.research.google.com/github/Jhonatan1599/Fault_diagnosis/blob/fault/Red_Neuronal.ipynb\" target=\"_parent\"><img src=\"https://colab.research.google.com/assets/colab-badge.svg\" alt=\"Open In Colab\"/></a>"
      ]
    },
    {
      "cell_type": "code",
      "execution_count": null,
      "metadata": {
        "id": "EN1Phh7SVj1_"
      },
      "outputs": [],
      "source": [
        "import numpy as np\n",
        "import pandas as pd\n",
        "import matplotlib.pyplot as plt\n",
        "from sklearn.model_selection import train_test_split\n",
        "from sklearn.preprocessing import MinMaxScaler\n",
        "import tensorflow as tf\n",
        "from tensorflow.keras import layers, models\n",
        "\n"
      ]
    },
    {
      "cell_type": "code",
      "source": [
        "data = pd.read_excel('./data_01.xlsx', index_col=0)\n",
        "data"
      ],
      "metadata": {
        "id": "FCWNoVx6ZXnS"
      },
      "execution_count": null,
      "outputs": []
    },
    {
      "cell_type": "code",
      "source": [
        "input_cols = ['MAF', 'velocidad_motor', 'masa_combustible_inyectado']\n",
        "output_cols = ['MAP']"
      ],
      "metadata": {
        "id": "-TDM7t6AcSS1"
      },
      "execution_count": null,
      "outputs": []
    },
    {
      "cell_type": "code",
      "source": [
        "X = data[input_cols].values\n",
        "y = data[output_cols].values"
      ],
      "metadata": {
        "id": "pKQLdCDicTY4"
      },
      "execution_count": null,
      "outputs": []
    },
    {
      "cell_type": "code",
      "source": [
        "# Normalizar los datos\n",
        "scaler_X = MinMaxScaler()\n",
        "scaler_y = MinMaxScaler()\n",
        "\n",
        "X_scaled = scaler_X.fit_transform(X)\n",
        "y_scaled = scaler_y.fit_transform(y)"
      ],
      "metadata": {
        "id": "kMiKRezYcaiN"
      },
      "execution_count": null,
      "outputs": []
    },
    {
      "cell_type": "code",
      "source": [
        "X_train, X_test, y_train, y_test = train_test_split(X_scaled, y_scaled, test_size=0.2, random_state=42)\n"
      ],
      "metadata": {
        "id": "ncEWbPZcci9D"
      },
      "execution_count": null,
      "outputs": []
    },
    {
      "cell_type": "code",
      "source": [
        "# Crear el modelo de red neuronal\n",
        "model = models.Sequential()\n",
        "model.add(layers.Dense(64, activation='relu', input_shape=(X_train.shape[1],)))\n",
        "model.add(layers.Dense(32, activation='relu'))\n",
        "model.add(layers.Dense(1, activation='linear'))"
      ],
      "metadata": {
        "id": "-OaWl3PIcsd1"
      },
      "execution_count": null,
      "outputs": []
    },
    {
      "cell_type": "code",
      "source": [
        "model.compile(optimizer='adam', loss='mean_squared_error')\n"
      ],
      "metadata": {
        "id": "XUno5j0Ncv97"
      },
      "execution_count": null,
      "outputs": []
    },
    {
      "cell_type": "code",
      "source": [
        "# Entrenar el modelo\n",
        "#model.fit(X_train, y_train, epochs=100, batch_size=16, validation_data=(X_test, y_test))\n",
        "\n",
        "# Entrenar el modelo y guardar el historial de entrenamiento\n",
        "history = model.fit(X_train, y_train, epochs=100, batch_size=16, validation_data=(X_test, y_test))\n",
        "\n",
        "# Obtener la pérdida en el conjunto de entrenamiento y prueba\n",
        "loss_train = history.history['loss']\n",
        "loss_val = history.history['val_loss']\n",
        "\n"
      ],
      "metadata": {
        "colab": {
          "base_uri": "https://localhost:8080/"
        },
        "id": "BKpuTRv2c04W",
        "outputId": "dca27e68-dfd3-47f6-f75d-43acb43a77ed"
      },
      "execution_count": null,
      "outputs": [
        {
          "output_type": "stream",
          "name": "stdout",
          "text": [
            "Epoch 1/100\n",
            "1804/1804 [==============================] - 8s 3ms/step - loss: 0.0018 - val_loss: 4.2337e-04\n",
            "Epoch 2/100\n",
            "1804/1804 [==============================] - 5s 3ms/step - loss: 2.8590e-04 - val_loss: 2.4253e-04\n",
            "Epoch 3/100\n",
            "1804/1804 [==============================] - 5s 3ms/step - loss: 2.6349e-04 - val_loss: 2.7633e-04\n",
            "Epoch 4/100\n",
            "1804/1804 [==============================] - 5s 3ms/step - loss: 2.5173e-04 - val_loss: 2.6164e-04\n",
            "Epoch 5/100\n",
            "1804/1804 [==============================] - 5s 3ms/step - loss: 2.4317e-04 - val_loss: 2.2405e-04\n",
            "Epoch 6/100\n",
            "1804/1804 [==============================] - 7s 4ms/step - loss: 2.4329e-04 - val_loss: 2.2613e-04\n",
            "Epoch 7/100\n",
            "1804/1804 [==============================] - 5s 3ms/step - loss: 2.3628e-04 - val_loss: 2.1785e-04\n",
            "Epoch 8/100\n",
            "1804/1804 [==============================] - 5s 3ms/step - loss: 2.3503e-04 - val_loss: 2.4738e-04\n",
            "Epoch 9/100\n",
            "1804/1804 [==============================] - 5s 3ms/step - loss: 2.3329e-04 - val_loss: 2.7831e-04\n",
            "Epoch 10/100\n",
            "1804/1804 [==============================] - 4s 2ms/step - loss: 2.3366e-04 - val_loss: 2.3039e-04\n",
            "Epoch 11/100\n",
            "1804/1804 [==============================] - 5s 3ms/step - loss: 2.2745e-04 - val_loss: 2.4008e-04\n",
            "Epoch 12/100\n",
            "1804/1804 [==============================] - 5s 3ms/step - loss: 2.2716e-04 - val_loss: 2.2877e-04\n",
            "Epoch 13/100\n",
            "1804/1804 [==============================] - 4s 2ms/step - loss: 2.2690e-04 - val_loss: 2.1222e-04\n",
            "Epoch 14/100\n",
            "1804/1804 [==============================] - 6s 3ms/step - loss: 2.2252e-04 - val_loss: 2.0817e-04\n",
            "Epoch 15/100\n",
            "1804/1804 [==============================] - 4s 2ms/step - loss: 2.2541e-04 - val_loss: 2.1094e-04\n",
            "Epoch 16/100\n",
            "1804/1804 [==============================] - 4s 2ms/step - loss: 2.2112e-04 - val_loss: 2.5358e-04\n",
            "Epoch 17/100\n",
            "1804/1804 [==============================] - 5s 3ms/step - loss: 2.1976e-04 - val_loss: 2.3298e-04\n",
            "Epoch 18/100\n",
            "1804/1804 [==============================] - 4s 2ms/step - loss: 2.1968e-04 - val_loss: 2.1162e-04\n",
            "Epoch 19/100\n",
            "1804/1804 [==============================] - 4s 2ms/step - loss: 2.1632e-04 - val_loss: 2.1505e-04\n",
            "Epoch 20/100\n",
            "1804/1804 [==============================] - 5s 3ms/step - loss: 2.1666e-04 - val_loss: 2.0002e-04\n",
            "Epoch 21/100\n",
            "1804/1804 [==============================] - 4s 2ms/step - loss: 2.1891e-04 - val_loss: 2.0720e-04\n",
            "Epoch 22/100\n",
            "1804/1804 [==============================] - 4s 2ms/step - loss: 2.1712e-04 - val_loss: 2.3799e-04\n",
            "Epoch 23/100\n",
            "1804/1804 [==============================] - 5s 3ms/step - loss: 2.1591e-04 - val_loss: 2.0297e-04\n",
            "Epoch 24/100\n",
            "1804/1804 [==============================] - 4s 2ms/step - loss: 2.1635e-04 - val_loss: 2.0141e-04\n",
            "Epoch 25/100\n",
            "1804/1804 [==============================] - 4s 2ms/step - loss: 2.1289e-04 - val_loss: 2.0099e-04\n",
            "Epoch 26/100\n",
            "1804/1804 [==============================] - 5s 3ms/step - loss: 2.1386e-04 - val_loss: 2.1786e-04\n",
            "Epoch 27/100\n",
            "1804/1804 [==============================] - 5s 3ms/step - loss: 2.1126e-04 - val_loss: 1.9890e-04\n",
            "Epoch 28/100\n",
            "1804/1804 [==============================] - 4s 2ms/step - loss: 2.1038e-04 - val_loss: 2.1789e-04\n",
            "Epoch 29/100\n",
            "1804/1804 [==============================] - 6s 3ms/step - loss: 2.1422e-04 - val_loss: 2.8986e-04\n",
            "Epoch 30/100\n",
            "1804/1804 [==============================] - 4s 2ms/step - loss: 2.0817e-04 - val_loss: 1.9271e-04\n",
            "Epoch 31/100\n",
            "1804/1804 [==============================] - 4s 2ms/step - loss: 2.0953e-04 - val_loss: 2.2199e-04\n",
            "Epoch 32/100\n",
            "1804/1804 [==============================] - 5s 3ms/step - loss: 2.0902e-04 - val_loss: 2.1194e-04\n",
            "Epoch 33/100\n",
            "1804/1804 [==============================] - 4s 2ms/step - loss: 2.1004e-04 - val_loss: 2.4527e-04\n",
            "Epoch 34/100\n",
            "1804/1804 [==============================] - 4s 2ms/step - loss: 2.0676e-04 - val_loss: 2.0777e-04\n",
            "Epoch 35/100\n",
            "1804/1804 [==============================] - 6s 3ms/step - loss: 2.0641e-04 - val_loss: 2.2683e-04\n",
            "Epoch 36/100\n",
            "1804/1804 [==============================] - 4s 2ms/step - loss: 2.0548e-04 - val_loss: 1.9620e-04\n",
            "Epoch 37/100\n",
            "1804/1804 [==============================] - 4s 2ms/step - loss: 2.0681e-04 - val_loss: 1.9846e-04\n",
            "Epoch 38/100\n",
            "1804/1804 [==============================] - 5s 3ms/step - loss: 2.0349e-04 - val_loss: 2.0598e-04\n",
            "Epoch 39/100\n",
            "1804/1804 [==============================] - 4s 2ms/step - loss: 2.0279e-04 - val_loss: 2.2707e-04\n",
            "Epoch 40/100\n",
            "1804/1804 [==============================] - 4s 2ms/step - loss: 2.0534e-04 - val_loss: 2.4859e-04\n",
            "Epoch 41/100\n",
            "1804/1804 [==============================] - 6s 3ms/step - loss: 2.0447e-04 - val_loss: 2.0986e-04\n",
            "Epoch 42/100\n",
            "1804/1804 [==============================] - 4s 2ms/step - loss: 2.0237e-04 - val_loss: 2.0255e-04\n",
            "Epoch 43/100\n",
            "1804/1804 [==============================] - 4s 2ms/step - loss: 2.0118e-04 - val_loss: 2.0049e-04\n",
            "Epoch 44/100\n",
            "1804/1804 [==============================] - 5s 3ms/step - loss: 2.0169e-04 - val_loss: 2.1530e-04\n",
            "Epoch 45/100\n",
            "1804/1804 [==============================] - 4s 2ms/step - loss: 2.0257e-04 - val_loss: 1.9414e-04\n",
            "Epoch 46/100\n",
            "1804/1804 [==============================] - 4s 2ms/step - loss: 2.0268e-04 - val_loss: 2.0582e-04\n",
            "Epoch 47/100\n",
            "1804/1804 [==============================] - 5s 3ms/step - loss: 2.0224e-04 - val_loss: 2.0500e-04\n",
            "Epoch 48/100\n",
            "1804/1804 [==============================] - 4s 2ms/step - loss: 2.0016e-04 - val_loss: 2.2573e-04\n",
            "Epoch 49/100\n",
            "1804/1804 [==============================] - 4s 2ms/step - loss: 1.9816e-04 - val_loss: 2.0583e-04\n",
            "Epoch 50/100\n",
            "1804/1804 [==============================] - 5s 3ms/step - loss: 2.0144e-04 - val_loss: 2.3377e-04\n",
            "Epoch 51/100\n",
            "1804/1804 [==============================] - 4s 2ms/step - loss: 1.9850e-04 - val_loss: 2.1106e-04\n",
            "Epoch 52/100\n",
            "1804/1804 [==============================] - 4s 2ms/step - loss: 2.0009e-04 - val_loss: 1.9220e-04\n",
            "Epoch 53/100\n",
            "1804/1804 [==============================] - 4s 2ms/step - loss: 1.9853e-04 - val_loss: 2.1121e-04\n",
            "Epoch 54/100\n",
            "1804/1804 [==============================] - 5s 3ms/step - loss: 1.9969e-04 - val_loss: 1.8629e-04\n",
            "Epoch 55/100\n",
            "1804/1804 [==============================] - 4s 2ms/step - loss: 1.9692e-04 - val_loss: 2.0284e-04\n",
            "Epoch 56/100\n",
            "1804/1804 [==============================] - 5s 3ms/step - loss: 1.9792e-04 - val_loss: 2.8130e-04\n",
            "Epoch 57/100\n",
            "1804/1804 [==============================] - 5s 3ms/step - loss: 1.9739e-04 - val_loss: 1.9495e-04\n",
            "Epoch 58/100\n",
            "1804/1804 [==============================] - 4s 2ms/step - loss: 1.9519e-04 - val_loss: 1.9547e-04\n",
            "Epoch 59/100\n",
            "1804/1804 [==============================] - 5s 3ms/step - loss: 1.9811e-04 - val_loss: 1.9805e-04\n",
            "Epoch 60/100\n",
            "1804/1804 [==============================] - 5s 3ms/step - loss: 1.9737e-04 - val_loss: 1.8690e-04\n",
            "Epoch 61/100\n",
            "1804/1804 [==============================] - 4s 2ms/step - loss: 1.9636e-04 - val_loss: 2.8890e-04\n",
            "Epoch 62/100\n",
            "1804/1804 [==============================] - 5s 3ms/step - loss: 1.9740e-04 - val_loss: 2.0051e-04\n",
            "Epoch 63/100\n",
            "1804/1804 [==============================] - 4s 2ms/step - loss: 1.9447e-04 - val_loss: 2.1386e-04\n",
            "Epoch 64/100\n",
            "1804/1804 [==============================] - 4s 2ms/step - loss: 1.9662e-04 - val_loss: 1.9426e-04\n",
            "Epoch 65/100\n",
            "1804/1804 [==============================] - 4s 2ms/step - loss: 1.9712e-04 - val_loss: 1.9275e-04\n",
            "Epoch 66/100\n",
            "1804/1804 [==============================] - 5s 3ms/step - loss: 1.9470e-04 - val_loss: 1.9673e-04\n",
            "Epoch 67/100\n",
            "1804/1804 [==============================] - 4s 2ms/step - loss: 1.9739e-04 - val_loss: 2.3813e-04\n",
            "Epoch 68/100\n",
            "1804/1804 [==============================] - 5s 3ms/step - loss: 1.9449e-04 - val_loss: 1.8821e-04\n",
            "Epoch 69/100\n",
            "1804/1804 [==============================] - 5s 3ms/step - loss: 1.9501e-04 - val_loss: 1.9152e-04\n",
            "Epoch 70/100\n",
            "1804/1804 [==============================] - 4s 2ms/step - loss: 1.9357e-04 - val_loss: 2.0645e-04\n",
            "Epoch 71/100\n",
            "1804/1804 [==============================] - 5s 3ms/step - loss: 1.9241e-04 - val_loss: 2.0279e-04\n",
            "Epoch 72/100\n",
            "1804/1804 [==============================] - 4s 2ms/step - loss: 1.9394e-04 - val_loss: 1.9557e-04\n",
            "Epoch 73/100\n",
            "1804/1804 [==============================] - 4s 2ms/step - loss: 1.9215e-04 - val_loss: 2.0217e-04\n",
            "Epoch 74/100\n",
            "1804/1804 [==============================] - 4s 2ms/step - loss: 1.9323e-04 - val_loss: 1.8995e-04\n",
            "Epoch 75/100\n",
            "1804/1804 [==============================] - 5s 3ms/step - loss: 1.9118e-04 - val_loss: 2.0590e-04\n",
            "Epoch 76/100\n",
            "1804/1804 [==============================] - 4s 2ms/step - loss: 1.9226e-04 - val_loss: 2.0031e-04\n",
            "Epoch 77/100\n",
            "1804/1804 [==============================] - 5s 3ms/step - loss: 1.9221e-04 - val_loss: 2.0869e-04\n",
            "Epoch 78/100\n",
            "1804/1804 [==============================] - 5s 3ms/step - loss: 1.9452e-04 - val_loss: 2.3979e-04\n",
            "Epoch 79/100\n",
            "1804/1804 [==============================] - 4s 2ms/step - loss: 1.9178e-04 - val_loss: 2.2415e-04\n",
            "Epoch 80/100\n",
            "1804/1804 [==============================] - 5s 3ms/step - loss: 1.9086e-04 - val_loss: 1.9138e-04\n",
            "Epoch 81/100\n",
            "1804/1804 [==============================] - 5s 3ms/step - loss: 1.9224e-04 - val_loss: 2.3350e-04\n",
            "Epoch 82/100\n",
            "1804/1804 [==============================] - 4s 2ms/step - loss: 1.9019e-04 - val_loss: 1.8930e-04\n",
            "Epoch 83/100\n",
            "1804/1804 [==============================] - 5s 3ms/step - loss: 1.8835e-04 - val_loss: 1.8722e-04\n",
            "Epoch 84/100\n",
            "1804/1804 [==============================] - 4s 2ms/step - loss: 1.9094e-04 - val_loss: 1.8786e-04\n",
            "Epoch 85/100\n",
            "1804/1804 [==============================] - 4s 2ms/step - loss: 1.8955e-04 - val_loss: 1.9179e-04\n",
            "Epoch 86/100\n",
            "1804/1804 [==============================] - 5s 3ms/step - loss: 1.8909e-04 - val_loss: 1.8709e-04\n",
            "Epoch 87/100\n",
            "1804/1804 [==============================] - 4s 2ms/step - loss: 1.8823e-04 - val_loss: 1.8877e-04\n",
            "Epoch 88/100\n",
            "1804/1804 [==============================] - 4s 2ms/step - loss: 1.9181e-04 - val_loss: 2.1473e-04\n",
            "Epoch 89/100\n",
            "1804/1804 [==============================] - 5s 3ms/step - loss: 1.8703e-04 - val_loss: 1.9614e-04\n",
            "Epoch 90/100\n",
            "1804/1804 [==============================] - 5s 3ms/step - loss: 1.8746e-04 - val_loss: 1.9245e-04\n",
            "Epoch 91/100\n",
            "1804/1804 [==============================] - 4s 2ms/step - loss: 1.8793e-04 - val_loss: 2.1029e-04\n",
            "Epoch 92/100\n",
            "1804/1804 [==============================] - 5s 3ms/step - loss: 1.8891e-04 - val_loss: 2.1873e-04\n",
            "Epoch 93/100\n",
            "1804/1804 [==============================] - 5s 3ms/step - loss: 1.8738e-04 - val_loss: 1.8357e-04\n",
            "Epoch 94/100\n",
            "1804/1804 [==============================] - 4s 2ms/step - loss: 1.8742e-04 - val_loss: 2.1196e-04\n",
            "Epoch 95/100\n",
            "1804/1804 [==============================] - 5s 3ms/step - loss: 1.8869e-04 - val_loss: 1.8129e-04\n",
            "Epoch 96/100\n",
            "1804/1804 [==============================] - 4s 2ms/step - loss: 1.8513e-04 - val_loss: 1.8195e-04\n",
            "Epoch 97/100\n",
            "1804/1804 [==============================] - 4s 2ms/step - loss: 1.8620e-04 - val_loss: 1.8476e-04\n",
            "Epoch 98/100\n",
            "1804/1804 [==============================] - 5s 3ms/step - loss: 1.8726e-04 - val_loss: 1.9217e-04\n",
            "Epoch 99/100\n",
            "1804/1804 [==============================] - 4s 2ms/step - loss: 1.8559e-04 - val_loss: 1.9400e-04\n",
            "Epoch 100/100\n",
            "1804/1804 [==============================] - 4s 2ms/step - loss: 1.8741e-04 - val_loss: 1.9857e-04\n"
          ]
        }
      ]
    },
    {
      "cell_type": "code",
      "source": [
        "# Crear la gráfica de la función de pérdida\n",
        "epochs = range(1, len(loss_train) + 1)\n",
        "\n",
        "plt.figure(figsize=(10, 6))\n",
        "plt.plot(epochs, loss_train, 'g', label='Pérdida en entrenamiento')\n",
        "plt.title('Función de Pérdida durante el Entrenamiento')\n",
        "plt.xlabel('Épocas')\n",
        "plt.ylabel('Error')\n",
        "plt.legend()\n",
        "plt.show()"
      ],
      "metadata": {
        "colab": {
          "base_uri": "https://localhost:8080/",
          "height": 566
        },
        "id": "pSjc20etNiV5",
        "outputId": "03772930-157c-4a7a-f977-627877f3c705"
      },
      "execution_count": null,
      "outputs": [
        {
          "output_type": "display_data",
          "data": {
            "text/plain": [
              "<Figure size 1000x600 with 1 Axes>"
            ],
            "image/png": "[encoded data removed]"
          },
          "metadata": {}
        }
      ]
    },
    {
      "cell_type": "code",
      "source": [
        "# Evaluar el modelo\n",
        "loss = model.evaluate(X_test, y_test)\n",
        "print(f'Loss en conjunto de prueba: {loss}')"
      ],
      "metadata": {
        "colab": {
          "base_uri": "https://localhost:8080/"
        },
        "id": "53Gln-zec3c7",
        "outputId": "76911785-41af-446f-c14f-f43ca2da5b5f"
      },
      "execution_count": null,
      "outputs": [
        {
          "output_type": "stream",
          "name": "stdout",
          "text": [
            "226/226 [==============================] - 1s 2ms/step - loss: 1.9857e-04\n",
            "Loss en conjunto de prueba: 0.00019856520520988852\n"
          ]
        }
      ]
    },
    {
      "cell_type": "code",
      "source": [
        "# Guardar el modelo\n",
        "model.save(\"modelo_entrenado.h5\")"
      ],
      "metadata": {
        "colab": {
          "base_uri": "https://localhost:8080/"
        },
        "id": "1snMoJyEaZou",
        "outputId": "5d356114-667d-485b-ac41-14cdf369ed3b"
      },
      "execution_count": null,
      "outputs": [
        {
          "output_type": "stream",
          "name": "stderr",
          "text": [
            "/usr/local/lib/python3.10/dist-packages/keras/src/engine/training.py:3103: UserWarning: You are saving your model as an HDF5 file via `model.save()`. This file format is considered legacy. We recommend using instead the native Keras format, e.g. `model.save('my_model.keras')`.\n",
            "  saving_api.save_model(\n"
          ]
        }
      ]
    }
  ]
}